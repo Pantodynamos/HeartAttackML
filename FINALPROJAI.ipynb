{
  "nbformat": 4,
  "nbformat_minor": 0,
  "metadata": {
    "colab": {
      "provenance": [],
      "toc_visible": true,
      "authorship_tag": "ABX9TyNxj53fabkuXa9DlguSQwVd",
      "include_colab_link": true
    },
    "kernelspec": {
      "name": "python3",
      "display_name": "Python 3"
    },
    "language_info": {
      "name": "python"
    }
  },
  "cells": [
    {
      "cell_type": "markdown",
      "metadata": {
        "id": "view-in-github",
        "colab_type": "text"
      },
      "source": [
        "<a href=\"https://colab.research.google.com/github/Pantodynamos/MyProjects/blob/main/FINALPROJAI.ipynb\" target=\"_parent\"><img src=\"https://colab.research.google.com/assets/colab-badge.svg\" alt=\"Open In Colab\"/></a>"
      ]
    },
    {
      "cell_type": "code",
      "execution_count": null,
      "metadata": {
        "id": "mmmOAEdvtoRg"
      },
      "outputs": [],
      "source": [
        "import numpy as np\n",
        "import pandas as pd\n",
        "import matplotlib.pyplot as plt\n",
        "from sklearn.model_selection import train_test_split\n",
        "from sklearn.preprocessing import StandardScaler\n",
        "from imblearn.over_sampling import RandomOverSampler\n",
        "import tensorflow as tf\n",
        "import tensorflow_hub as hub"
      ]
    },
    {
      "cell_type": "code",
      "source": [
        "df = pd.read_csv(\"heartpredict.csv\")"
      ],
      "metadata": {
        "id": "sx0tCsO5tsrb"
      },
      "execution_count": null,
      "outputs": []
    },
    {
      "cell_type": "code",
      "source": [
        "df.head()"
      ],
      "metadata": {
        "colab": {
          "base_uri": "https://localhost:8080/",
          "height": 206
        },
        "id": "rDne1AyQuH8o",
        "outputId": "b53c6117-b0e6-45df-cee7-074948036b88"
      },
      "execution_count": null,
      "outputs": [
        {
          "output_type": "execute_result",
          "data": {
            "text/plain": [
              "   age  sex  cp  trestbps  chol  fbs  restecg  thalach  exang  oldpeak  slope  \\\n",
              "0   52    1   0       125   212    0        1      168      0      1.0      2   \n",
              "1   53    1   0       140   203    1        0      155      1      3.1      0   \n",
              "2   70    1   0       145   174    0        1      125      1      2.6      0   \n",
              "3   61    1   0       148   203    0        1      161      0      0.0      2   \n",
              "4   62    0   0       138   294    1        1      106      0      1.9      1   \n",
              "\n",
              "   ca  thal  target  \n",
              "0   2     3       0  \n",
              "1   0     3       0  \n",
              "2   0     3       0  \n",
              "3   1     3       0  \n",
              "4   3     2       0  "
            ],
            "text/html": [
              "\n",
              "  <div id=\"df-6ffb44f3-cdf6-4462-a140-27a2818fd6d2\">\n",
              "    <div class=\"colab-df-container\">\n",
              "      <div>\n",
              "<style scoped>\n",
              "    .dataframe tbody tr th:only-of-type {\n",
              "        vertical-align: middle;\n",
              "    }\n",
              "\n",
              "    .dataframe tbody tr th {\n",
              "        vertical-align: top;\n",
              "    }\n",
              "\n",
              "    .dataframe thead th {\n",
              "        text-align: right;\n",
              "    }\n",
              "</style>\n",
              "<table border=\"1\" class=\"dataframe\">\n",
              "  <thead>\n",
              "    <tr style=\"text-align: right;\">\n",
              "      <th></th>\n",
              "      <th>age</th>\n",
              "      <th>sex</th>\n",
              "      <th>cp</th>\n",
              "      <th>trestbps</th>\n",
              "      <th>chol</th>\n",
              "      <th>fbs</th>\n",
              "      <th>restecg</th>\n",
              "      <th>thalach</th>\n",
              "      <th>exang</th>\n",
              "      <th>oldpeak</th>\n",
              "      <th>slope</th>\n",
              "      <th>ca</th>\n",
              "      <th>thal</th>\n",
              "      <th>target</th>\n",
              "    </tr>\n",
              "  </thead>\n",
              "  <tbody>\n",
              "    <tr>\n",
              "      <th>0</th>\n",
              "      <td>52</td>\n",
              "      <td>1</td>\n",
              "      <td>0</td>\n",
              "      <td>125</td>\n",
              "      <td>212</td>\n",
              "      <td>0</td>\n",
              "      <td>1</td>\n",
              "      <td>168</td>\n",
              "      <td>0</td>\n",
              "      <td>1.0</td>\n",
              "      <td>2</td>\n",
              "      <td>2</td>\n",
              "      <td>3</td>\n",
              "      <td>0</td>\n",
              "    </tr>\n",
              "    <tr>\n",
              "      <th>1</th>\n",
              "      <td>53</td>\n",
              "      <td>1</td>\n",
              "      <td>0</td>\n",
              "      <td>140</td>\n",
              "      <td>203</td>\n",
              "      <td>1</td>\n",
              "      <td>0</td>\n",
              "      <td>155</td>\n",
              "      <td>1</td>\n",
              "      <td>3.1</td>\n",
              "      <td>0</td>\n",
              "      <td>0</td>\n",
              "      <td>3</td>\n",
              "      <td>0</td>\n",
              "    </tr>\n",
              "    <tr>\n",
              "      <th>2</th>\n",
              "      <td>70</td>\n",
              "      <td>1</td>\n",
              "      <td>0</td>\n",
              "      <td>145</td>\n",
              "      <td>174</td>\n",
              "      <td>0</td>\n",
              "      <td>1</td>\n",
              "      <td>125</td>\n",
              "      <td>1</td>\n",
              "      <td>2.6</td>\n",
              "      <td>0</td>\n",
              "      <td>0</td>\n",
              "      <td>3</td>\n",
              "      <td>0</td>\n",
              "    </tr>\n",
              "    <tr>\n",
              "      <th>3</th>\n",
              "      <td>61</td>\n",
              "      <td>1</td>\n",
              "      <td>0</td>\n",
              "      <td>148</td>\n",
              "      <td>203</td>\n",
              "      <td>0</td>\n",
              "      <td>1</td>\n",
              "      <td>161</td>\n",
              "      <td>0</td>\n",
              "      <td>0.0</td>\n",
              "      <td>2</td>\n",
              "      <td>1</td>\n",
              "      <td>3</td>\n",
              "      <td>0</td>\n",
              "    </tr>\n",
              "    <tr>\n",
              "      <th>4</th>\n",
              "      <td>62</td>\n",
              "      <td>0</td>\n",
              "      <td>0</td>\n",
              "      <td>138</td>\n",
              "      <td>294</td>\n",
              "      <td>1</td>\n",
              "      <td>1</td>\n",
              "      <td>106</td>\n",
              "      <td>0</td>\n",
              "      <td>1.9</td>\n",
              "      <td>1</td>\n",
              "      <td>3</td>\n",
              "      <td>2</td>\n",
              "      <td>0</td>\n",
              "    </tr>\n",
              "  </tbody>\n",
              "</table>\n",
              "</div>\n",
              "      <button class=\"colab-df-convert\" onclick=\"convertToInteractive('df-6ffb44f3-cdf6-4462-a140-27a2818fd6d2')\"\n",
              "              title=\"Convert this dataframe to an interactive table.\"\n",
              "              style=\"display:none;\">\n",
              "        \n",
              "  <svg xmlns=\"http://www.w3.org/2000/svg\" height=\"24px\"viewBox=\"0 0 24 24\"\n",
              "       width=\"24px\">\n",
              "    <path d=\"M0 0h24v24H0V0z\" fill=\"none\"/>\n",
              "    <path d=\"M18.56 5.44l.94 2.06.94-2.06 2.06-.94-2.06-.94-.94-2.06-.94 2.06-2.06.94zm-11 1L8.5 8.5l.94-2.06 2.06-.94-2.06-.94L8.5 2.5l-.94 2.06-2.06.94zm10 10l.94 2.06.94-2.06 2.06-.94-2.06-.94-.94-2.06-.94 2.06-2.06.94z\"/><path d=\"M17.41 7.96l-1.37-1.37c-.4-.4-.92-.59-1.43-.59-.52 0-1.04.2-1.43.59L10.3 9.45l-7.72 7.72c-.78.78-.78 2.05 0 2.83L4 21.41c.39.39.9.59 1.41.59.51 0 1.02-.2 1.41-.59l7.78-7.78 2.81-2.81c.8-.78.8-2.07 0-2.86zM5.41 20L4 18.59l7.72-7.72 1.47 1.35L5.41 20z\"/>\n",
              "  </svg>\n",
              "      </button>\n",
              "      \n",
              "  <style>\n",
              "    .colab-df-container {\n",
              "      display:flex;\n",
              "      flex-wrap:wrap;\n",
              "      gap: 12px;\n",
              "    }\n",
              "\n",
              "    .colab-df-convert {\n",
              "      background-color: #E8F0FE;\n",
              "      border: none;\n",
              "      border-radius: 50%;\n",
              "      cursor: pointer;\n",
              "      display: none;\n",
              "      fill: #1967D2;\n",
              "      height: 32px;\n",
              "      padding: 0 0 0 0;\n",
              "      width: 32px;\n",
              "    }\n",
              "\n",
              "    .colab-df-convert:hover {\n",
              "      background-color: #E2EBFA;\n",
              "      box-shadow: 0px 1px 2px rgba(60, 64, 67, 0.3), 0px 1px 3px 1px rgba(60, 64, 67, 0.15);\n",
              "      fill: #174EA6;\n",
              "    }\n",
              "\n",
              "    [theme=dark] .colab-df-convert {\n",
              "      background-color: #3B4455;\n",
              "      fill: #D2E3FC;\n",
              "    }\n",
              "\n",
              "    [theme=dark] .colab-df-convert:hover {\n",
              "      background-color: #434B5C;\n",
              "      box-shadow: 0px 1px 3px 1px rgba(0, 0, 0, 0.15);\n",
              "      filter: drop-shadow(0px 1px 2px rgba(0, 0, 0, 0.3));\n",
              "      fill: #FFFFFF;\n",
              "    }\n",
              "  </style>\n",
              "\n",
              "      <script>\n",
              "        const buttonEl =\n",
              "          document.querySelector('#df-6ffb44f3-cdf6-4462-a140-27a2818fd6d2 button.colab-df-convert');\n",
              "        buttonEl.style.display =\n",
              "          google.colab.kernel.accessAllowed ? 'block' : 'none';\n",
              "\n",
              "        async function convertToInteractive(key) {\n",
              "          const element = document.querySelector('#df-6ffb44f3-cdf6-4462-a140-27a2818fd6d2');\n",
              "          const dataTable =\n",
              "            await google.colab.kernel.invokeFunction('convertToInteractive',\n",
              "                                                     [key], {});\n",
              "          if (!dataTable) return;\n",
              "\n",
              "          const docLinkHtml = 'Like what you see? Visit the ' +\n",
              "            '<a target=\"_blank\" href=https://colab.research.google.com/notebooks/data_table.ipynb>data table notebook</a>'\n",
              "            + ' to learn more about interactive tables.';\n",
              "          element.innerHTML = '';\n",
              "          dataTable['output_type'] = 'display_data';\n",
              "          await google.colab.output.renderOutput(dataTable, element);\n",
              "          const docLink = document.createElement('div');\n",
              "          docLink.innerHTML = docLinkHtml;\n",
              "          element.appendChild(docLink);\n",
              "        }\n",
              "      </script>\n",
              "    </div>\n",
              "  </div>\n",
              "  "
            ]
          },
          "metadata": {},
          "execution_count": 5
        }
      ]
    },
    {
      "cell_type": "code",
      "source": [
        "df.tail()"
      ],
      "metadata": {
        "id": "h3PTVxSFfoJF",
        "outputId": "e4bf6bd7-654a-4ab4-d2a3-9e9bd97a3869",
        "colab": {
          "base_uri": "https://localhost:8080/",
          "height": 206
        }
      },
      "execution_count": null,
      "outputs": [
        {
          "output_type": "execute_result",
          "data": {
            "text/plain": [
              "      age  sex  cp  trestbps  chol  fbs  restecg  thalach  exang  oldpeak  \\\n",
              "1020   59    1   1       140   221    0        1      164      1      0.0   \n",
              "1021   60    1   0       125   258    0        0      141      1      2.8   \n",
              "1022   47    1   0       110   275    0        0      118      1      1.0   \n",
              "1023   50    0   0       110   254    0        0      159      0      0.0   \n",
              "1024   54    1   0       120   188    0        1      113      0      1.4   \n",
              "\n",
              "      slope  ca  thal  target  \n",
              "1020      2   0     2       1  \n",
              "1021      1   1     3       0  \n",
              "1022      1   1     2       0  \n",
              "1023      2   0     2       1  \n",
              "1024      1   1     3       0  "
            ],
            "text/html": [
              "\n",
              "  <div id=\"df-391c2f23-cae2-4945-8a2b-8aaf80b9aec7\">\n",
              "    <div class=\"colab-df-container\">\n",
              "      <div>\n",
              "<style scoped>\n",
              "    .dataframe tbody tr th:only-of-type {\n",
              "        vertical-align: middle;\n",
              "    }\n",
              "\n",
              "    .dataframe tbody tr th {\n",
              "        vertical-align: top;\n",
              "    }\n",
              "\n",
              "    .dataframe thead th {\n",
              "        text-align: right;\n",
              "    }\n",
              "</style>\n",
              "<table border=\"1\" class=\"dataframe\">\n",
              "  <thead>\n",
              "    <tr style=\"text-align: right;\">\n",
              "      <th></th>\n",
              "      <th>age</th>\n",
              "      <th>sex</th>\n",
              "      <th>cp</th>\n",
              "      <th>trestbps</th>\n",
              "      <th>chol</th>\n",
              "      <th>fbs</th>\n",
              "      <th>restecg</th>\n",
              "      <th>thalach</th>\n",
              "      <th>exang</th>\n",
              "      <th>oldpeak</th>\n",
              "      <th>slope</th>\n",
              "      <th>ca</th>\n",
              "      <th>thal</th>\n",
              "      <th>target</th>\n",
              "    </tr>\n",
              "  </thead>\n",
              "  <tbody>\n",
              "    <tr>\n",
              "      <th>1020</th>\n",
              "      <td>59</td>\n",
              "      <td>1</td>\n",
              "      <td>1</td>\n",
              "      <td>140</td>\n",
              "      <td>221</td>\n",
              "      <td>0</td>\n",
              "      <td>1</td>\n",
              "      <td>164</td>\n",
              "      <td>1</td>\n",
              "      <td>0.0</td>\n",
              "      <td>2</td>\n",
              "      <td>0</td>\n",
              "      <td>2</td>\n",
              "      <td>1</td>\n",
              "    </tr>\n",
              "    <tr>\n",
              "      <th>1021</th>\n",
              "      <td>60</td>\n",
              "      <td>1</td>\n",
              "      <td>0</td>\n",
              "      <td>125</td>\n",
              "      <td>258</td>\n",
              "      <td>0</td>\n",
              "      <td>0</td>\n",
              "      <td>141</td>\n",
              "      <td>1</td>\n",
              "      <td>2.8</td>\n",
              "      <td>1</td>\n",
              "      <td>1</td>\n",
              "      <td>3</td>\n",
              "      <td>0</td>\n",
              "    </tr>\n",
              "    <tr>\n",
              "      <th>1022</th>\n",
              "      <td>47</td>\n",
              "      <td>1</td>\n",
              "      <td>0</td>\n",
              "      <td>110</td>\n",
              "      <td>275</td>\n",
              "      <td>0</td>\n",
              "      <td>0</td>\n",
              "      <td>118</td>\n",
              "      <td>1</td>\n",
              "      <td>1.0</td>\n",
              "      <td>1</td>\n",
              "      <td>1</td>\n",
              "      <td>2</td>\n",
              "      <td>0</td>\n",
              "    </tr>\n",
              "    <tr>\n",
              "      <th>1023</th>\n",
              "      <td>50</td>\n",
              "      <td>0</td>\n",
              "      <td>0</td>\n",
              "      <td>110</td>\n",
              "      <td>254</td>\n",
              "      <td>0</td>\n",
              "      <td>0</td>\n",
              "      <td>159</td>\n",
              "      <td>0</td>\n",
              "      <td>0.0</td>\n",
              "      <td>2</td>\n",
              "      <td>0</td>\n",
              "      <td>2</td>\n",
              "      <td>1</td>\n",
              "    </tr>\n",
              "    <tr>\n",
              "      <th>1024</th>\n",
              "      <td>54</td>\n",
              "      <td>1</td>\n",
              "      <td>0</td>\n",
              "      <td>120</td>\n",
              "      <td>188</td>\n",
              "      <td>0</td>\n",
              "      <td>1</td>\n",
              "      <td>113</td>\n",
              "      <td>0</td>\n",
              "      <td>1.4</td>\n",
              "      <td>1</td>\n",
              "      <td>1</td>\n",
              "      <td>3</td>\n",
              "      <td>0</td>\n",
              "    </tr>\n",
              "  </tbody>\n",
              "</table>\n",
              "</div>\n",
              "      <button class=\"colab-df-convert\" onclick=\"convertToInteractive('df-391c2f23-cae2-4945-8a2b-8aaf80b9aec7')\"\n",
              "              title=\"Convert this dataframe to an interactive table.\"\n",
              "              style=\"display:none;\">\n",
              "        \n",
              "  <svg xmlns=\"http://www.w3.org/2000/svg\" height=\"24px\"viewBox=\"0 0 24 24\"\n",
              "       width=\"24px\">\n",
              "    <path d=\"M0 0h24v24H0V0z\" fill=\"none\"/>\n",
              "    <path d=\"M18.56 5.44l.94 2.06.94-2.06 2.06-.94-2.06-.94-.94-2.06-.94 2.06-2.06.94zm-11 1L8.5 8.5l.94-2.06 2.06-.94-2.06-.94L8.5 2.5l-.94 2.06-2.06.94zm10 10l.94 2.06.94-2.06 2.06-.94-2.06-.94-.94-2.06-.94 2.06-2.06.94z\"/><path d=\"M17.41 7.96l-1.37-1.37c-.4-.4-.92-.59-1.43-.59-.52 0-1.04.2-1.43.59L10.3 9.45l-7.72 7.72c-.78.78-.78 2.05 0 2.83L4 21.41c.39.39.9.59 1.41.59.51 0 1.02-.2 1.41-.59l7.78-7.78 2.81-2.81c.8-.78.8-2.07 0-2.86zM5.41 20L4 18.59l7.72-7.72 1.47 1.35L5.41 20z\"/>\n",
              "  </svg>\n",
              "      </button>\n",
              "      \n",
              "  <style>\n",
              "    .colab-df-container {\n",
              "      display:flex;\n",
              "      flex-wrap:wrap;\n",
              "      gap: 12px;\n",
              "    }\n",
              "\n",
              "    .colab-df-convert {\n",
              "      background-color: #E8F0FE;\n",
              "      border: none;\n",
              "      border-radius: 50%;\n",
              "      cursor: pointer;\n",
              "      display: none;\n",
              "      fill: #1967D2;\n",
              "      height: 32px;\n",
              "      padding: 0 0 0 0;\n",
              "      width: 32px;\n",
              "    }\n",
              "\n",
              "    .colab-df-convert:hover {\n",
              "      background-color: #E2EBFA;\n",
              "      box-shadow: 0px 1px 2px rgba(60, 64, 67, 0.3), 0px 1px 3px 1px rgba(60, 64, 67, 0.15);\n",
              "      fill: #174EA6;\n",
              "    }\n",
              "\n",
              "    [theme=dark] .colab-df-convert {\n",
              "      background-color: #3B4455;\n",
              "      fill: #D2E3FC;\n",
              "    }\n",
              "\n",
              "    [theme=dark] .colab-df-convert:hover {\n",
              "      background-color: #434B5C;\n",
              "      box-shadow: 0px 1px 3px 1px rgba(0, 0, 0, 0.15);\n",
              "      filter: drop-shadow(0px 1px 2px rgba(0, 0, 0, 0.3));\n",
              "      fill: #FFFFFF;\n",
              "    }\n",
              "  </style>\n",
              "\n",
              "      <script>\n",
              "        const buttonEl =\n",
              "          document.querySelector('#df-391c2f23-cae2-4945-8a2b-8aaf80b9aec7 button.colab-df-convert');\n",
              "        buttonEl.style.display =\n",
              "          google.colab.kernel.accessAllowed ? 'block' : 'none';\n",
              "\n",
              "        async function convertToInteractive(key) {\n",
              "          const element = document.querySelector('#df-391c2f23-cae2-4945-8a2b-8aaf80b9aec7');\n",
              "          const dataTable =\n",
              "            await google.colab.kernel.invokeFunction('convertToInteractive',\n",
              "                                                     [key], {});\n",
              "          if (!dataTable) return;\n",
              "\n",
              "          const docLinkHtml = 'Like what you see? Visit the ' +\n",
              "            '<a target=\"_blank\" href=https://colab.research.google.com/notebooks/data_table.ipynb>data table notebook</a>'\n",
              "            + ' to learn more about interactive tables.';\n",
              "          element.innerHTML = '';\n",
              "          dataTable['output_type'] = 'display_data';\n",
              "          await google.colab.output.renderOutput(dataTable, element);\n",
              "          const docLink = document.createElement('div');\n",
              "          docLink.innerHTML = docLinkHtml;\n",
              "          element.appendChild(docLink);\n",
              "        }\n",
              "      </script>\n",
              "    </div>\n",
              "  </div>\n",
              "  "
            ]
          },
          "metadata": {},
          "execution_count": 6
        }
      ]
    },
    {
      "cell_type": "code",
      "source": [
        "plt.hist(df.age, bins=20)\n",
        "plt.title(\"Age Distribution\")\n",
        "plt.ylabel(\"Count\")\n",
        "plt.xlabel(\"Age in Years\")\n",
        "plt.show()"
      ],
      "metadata": {
        "colab": {
          "base_uri": "https://localhost:8080/",
          "height": 472
        },
        "id": "_v61gfQSvauF",
        "outputId": "5ebfab54-7bc4-4743-bce2-a5b51f28dcc2"
      },
      "execution_count": null,
      "outputs": [
        {
          "output_type": "display_data",
          "data": {
            "text/plain": [
              "<Figure size 640x480 with 1 Axes>"
            ],
            "image/png": "[encoded data removed]"
          },
          "metadata": {}
        }
      ]
    },
    {
      "cell_type": "code",
      "source": [
        "plt.hist(df.sex, bins=10)\n",
        "plt.title(\"Sex\")\n",
        "plt.ylabel(\"Count\")\n",
        "plt.xlabel(\"Sex\")\n",
        "plt.show()"
      ],
      "metadata": {
        "colab": {
          "base_uri": "https://localhost:8080/",
          "height": 472
        },
        "id": "4TcefuPdudob",
        "outputId": "0114d359-4468-43da-fa61-41efad207b21"
      },
      "execution_count": null,
      "outputs": [
        {
          "output_type": "display_data",
          "data": {
            "text/plain": [
              "<Figure size 640x480 with 1 Axes>"
            ],
            "image/png": "[encoded data removed]"
          },
          "metadata": {}
        }
      ]
    },
    {
      "cell_type": "code",
      "source": [
        "plt.hist(df.target, bins=10)\n",
        "plt.title(\"Heart attack count\")\n",
        "plt.ylabel(\"Count\")\n",
        "plt.xlabel(\"Heart attack\")\n",
        "plt.show()"
      ],
      "metadata": {
        "colab": {
          "base_uri": "https://localhost:8080/",
          "height": 472
        },
        "id": "sqGf5Kbyvls_",
        "outputId": "c0eee3d1-7062-4f35-a2fb-b843a09c6ccb"
      },
      "execution_count": null,
      "outputs": [
        {
          "output_type": "display_data",
          "data": {
            "text/plain": [
              "<Figure size 640x480 with 1 Axes>"
            ],
            "image/png": "[encoded data removed]"
          },
          "metadata": {}
        }
      ]
    },
    {
      "cell_type": "code",
      "source": [
        "x = df[df.columns[:-1]].values\n",
        "y = df[df.columns[-1]].values"
      ],
      "metadata": {
        "id": "KusDKsdjC6tC"
      },
      "execution_count": null,
      "outputs": []
    },
    {
      "cell_type": "code",
      "source": [
        "scaler = StandardScaler()\n",
        "x = scaler.fit_transform(x)\n",
        "data = np.hstack((x, np.reshape(y, (-1, 1))))\n",
        "transformed_df = pd.DataFrame(data, columns=df.columns)"
      ],
      "metadata": {
        "id": "njf6ryCPImAY"
      },
      "execution_count": null,
      "outputs": []
    },
    {
      "cell_type": "code",
      "source": [
        "over = RandomOverSampler()\n",
        "x, y = over.fit_resample(x, y)\n",
        "data = np.hstack((x, np.reshape(y, (-1, 1))))\n",
        "transformed_df = pd.DataFrame(data, columns=df.columns)"
      ],
      "metadata": {
        "id": "RAF7NtRqJ6Yz"
      },
      "execution_count": null,
      "outputs": []
    },
    {
      "cell_type": "code",
      "source": [
        "x_train, x_temp, y_train, y_temp = train_test_split(x, y, test_size=0.4, random_state=0)\n",
        "x_valid, x_test, y_valid, y_test = train_test_split(x_temp, y_temp, test_size=0.5, random_state=0)"
      ],
      "metadata": {
        "id": "YFsSCIjZC6uW"
      },
      "execution_count": null,
      "outputs": []
    },
    {
      "cell_type": "code",
      "source": [
        "model = tf.keras.Sequential([\n",
        "                              tf.keras.layers.Dense(64, activation='relu'),\n",
        "                              tf.keras.layers.Dropout(0.4),\n",
        "                              tf.keras.layers.Dense(64, activation='relu'),\n",
        "                              tf.keras.layers.Dropout(0.4),\n",
        "                              tf.keras.layers.Dense(1, activation='sigmoid')\n",
        "])"
      ],
      "metadata": {
        "id": "nI0I7qIbDtwE"
      },
      "execution_count": null,
      "outputs": []
    },
    {
      "cell_type": "code",
      "source": [
        "model.compile(optimizer=tf.keras.optimizers.Adam(learning_rate=0.001),\n",
        "              loss=tf.keras.losses.BinaryCrossentropy(),\n",
        "              metrics=['accuracy'])\n"
      ],
      "metadata": {
        "id": "aXQTZvBXFouc"
      },
      "execution_count": null,
      "outputs": []
    },
    {
      "cell_type": "code",
      "source": [
        "model.evaluate(x_train, y_train)"
      ],
      "metadata": {
        "colab": {
          "base_uri": "https://localhost:8080/"
        },
        "id": "vEFVv24OGgXD",
        "outputId": "5713e77f-a95b-4210-a0e1-c7a183237334"
      },
      "execution_count": null,
      "outputs": [
        {
          "output_type": "stream",
          "name": "stdout",
          "text": [
            "20/20 [==============================] - 1s 3ms/step - loss: 0.6864 - accuracy: 0.5024\n"
          ]
        },
        {
          "output_type": "execute_result",
          "data": {
            "text/plain": [
              "[0.6863964796066284, 0.5023771524429321]"
            ]
          },
          "metadata": {},
          "execution_count": 15
        }
      ]
    },
    {
      "cell_type": "code",
      "source": [
        "model.evaluate(x_valid, y_valid)"
      ],
      "metadata": {
        "colab": {
          "base_uri": "https://localhost:8080/"
        },
        "id": "hklLpxjZGgV1",
        "outputId": "e77847d5-0da8-44a2-efde-0347bdead0cb"
      },
      "execution_count": null,
      "outputs": [
        {
          "output_type": "stream",
          "name": "stdout",
          "text": [
            "7/7 [==============================] - 0s 2ms/step - loss: 0.7112 - accuracy: 0.4286\n"
          ]
        },
        {
          "output_type": "execute_result",
          "data": {
            "text/plain": [
              "[0.711190938949585, 0.4285714328289032]"
            ]
          },
          "metadata": {},
          "execution_count": 16
        }
      ]
    },
    {
      "cell_type": "code",
      "source": [
        "history = model.fit(x_train, y_train, batch_size=32, epochs=100, validation_data=(x_valid, y_valid))"
      ],
      "metadata": {
        "colab": {
          "base_uri": "https://localhost:8080/"
        },
        "id": "dRxBx3NSHPtm",
        "outputId": "338a95c3-36d5-42f6-ec6e-bbad414c6481"
      },
      "execution_count": null,
      "outputs": [
        {
          "output_type": "stream",
          "name": "stdout",
          "text": [
            "Epoch 1/100\n",
            "20/20 [==============================] - 1s 7ms/step - loss: 0.6774 - accuracy: 0.5769 - val_loss: 0.5134 - val_accuracy: 0.8143\n",
            "Epoch 2/100\n",
            "20/20 [==============================] - 0s 4ms/step - loss: 0.5513 - accuracy: 0.7068 - val_loss: 0.4254 - val_accuracy: 0.8524\n",
            "Epoch 3/100\n",
            "20/20 [==============================] - 0s 4ms/step - loss: 0.4696 - accuracy: 0.7908 - val_loss: 0.3677 - val_accuracy: 0.8667\n",
            "Epoch 4/100\n",
            "20/20 [==============================] - 0s 4ms/step - loss: 0.4553 - accuracy: 0.7940 - val_loss: 0.3378 - val_accuracy: 0.8810\n",
            "Epoch 5/100\n",
            "20/20 [==============================] - 0s 4ms/step - loss: 0.4351 - accuracy: 0.8003 - val_loss: 0.3162 - val_accuracy: 0.8857\n",
            "Epoch 6/100\n",
            "20/20 [==============================] - 0s 4ms/step - loss: 0.3904 - accuracy: 0.8257 - val_loss: 0.3007 - val_accuracy: 0.8810\n",
            "Epoch 7/100\n",
            "20/20 [==============================] - 0s 4ms/step - loss: 0.3961 - accuracy: 0.8082 - val_loss: 0.2936 - val_accuracy: 0.8952\n",
            "Epoch 8/100\n",
            "20/20 [==============================] - 0s 4ms/step - loss: 0.3865 - accuracy: 0.8415 - val_loss: 0.2855 - val_accuracy: 0.9048\n",
            "Epoch 9/100\n",
            "20/20 [==============================] - 0s 4ms/step - loss: 0.3589 - accuracy: 0.8368 - val_loss: 0.2806 - val_accuracy: 0.9048\n",
            "Epoch 10/100\n",
            "20/20 [==============================] - 0s 5ms/step - loss: 0.3538 - accuracy: 0.8463 - val_loss: 0.2758 - val_accuracy: 0.9095\n",
            "Epoch 11/100\n",
            "20/20 [==============================] - 0s 4ms/step - loss: 0.3518 - accuracy: 0.8399 - val_loss: 0.2725 - val_accuracy: 0.9048\n",
            "Epoch 12/100\n",
            "20/20 [==============================] - 0s 5ms/step - loss: 0.3374 - accuracy: 0.8542 - val_loss: 0.2667 - val_accuracy: 0.9048\n",
            "Epoch 13/100\n",
            "20/20 [==============================] - 0s 4ms/step - loss: 0.3434 - accuracy: 0.8542 - val_loss: 0.2663 - val_accuracy: 0.9143\n",
            "Epoch 14/100\n",
            "20/20 [==============================] - 0s 4ms/step - loss: 0.3417 - accuracy: 0.8590 - val_loss: 0.2642 - val_accuracy: 0.9190\n",
            "Epoch 15/100\n",
            "20/20 [==============================] - 0s 4ms/step - loss: 0.3262 - accuracy: 0.8605 - val_loss: 0.2586 - val_accuracy: 0.9095\n",
            "Epoch 16/100\n",
            "20/20 [==============================] - 0s 4ms/step - loss: 0.3374 - accuracy: 0.8590 - val_loss: 0.2578 - val_accuracy: 0.9095\n",
            "Epoch 17/100\n",
            "20/20 [==============================] - 0s 4ms/step - loss: 0.3359 - accuracy: 0.8479 - val_loss: 0.2567 - val_accuracy: 0.9000\n",
            "Epoch 18/100\n",
            "20/20 [==============================] - 0s 4ms/step - loss: 0.3327 - accuracy: 0.8590 - val_loss: 0.2525 - val_accuracy: 0.9095\n",
            "Epoch 19/100\n",
            "20/20 [==============================] - 0s 4ms/step - loss: 0.3292 - accuracy: 0.8447 - val_loss: 0.2469 - val_accuracy: 0.9190\n",
            "Epoch 20/100\n",
            "20/20 [==============================] - 0s 4ms/step - loss: 0.3146 - accuracy: 0.8700 - val_loss: 0.2443 - val_accuracy: 0.9143\n",
            "Epoch 21/100\n",
            "20/20 [==============================] - 0s 4ms/step - loss: 0.2991 - accuracy: 0.8843 - val_loss: 0.2404 - val_accuracy: 0.9190\n",
            "Epoch 22/100\n",
            "20/20 [==============================] - 0s 4ms/step - loss: 0.3078 - accuracy: 0.8669 - val_loss: 0.2394 - val_accuracy: 0.9190\n",
            "Epoch 23/100\n",
            "20/20 [==============================] - 0s 4ms/step - loss: 0.3001 - accuracy: 0.8685 - val_loss: 0.2365 - val_accuracy: 0.9333\n",
            "Epoch 24/100\n",
            "20/20 [==============================] - 0s 4ms/step - loss: 0.3011 - accuracy: 0.8716 - val_loss: 0.2370 - val_accuracy: 0.9333\n",
            "Epoch 25/100\n",
            "20/20 [==============================] - 0s 4ms/step - loss: 0.2882 - accuracy: 0.8843 - val_loss: 0.2348 - val_accuracy: 0.9190\n",
            "Epoch 26/100\n",
            "20/20 [==============================] - 0s 4ms/step - loss: 0.2922 - accuracy: 0.8922 - val_loss: 0.2308 - val_accuracy: 0.9333\n",
            "Epoch 27/100\n",
            "20/20 [==============================] - 0s 4ms/step - loss: 0.3024 - accuracy: 0.8605 - val_loss: 0.2269 - val_accuracy: 0.9286\n",
            "Epoch 28/100\n",
            "20/20 [==============================] - 0s 3ms/step - loss: 0.2898 - accuracy: 0.8811 - val_loss: 0.2254 - val_accuracy: 0.9333\n",
            "Epoch 29/100\n",
            "20/20 [==============================] - 0s 4ms/step - loss: 0.2789 - accuracy: 0.8875 - val_loss: 0.2242 - val_accuracy: 0.9333\n",
            "Epoch 30/100\n",
            "20/20 [==============================] - 0s 4ms/step - loss: 0.2938 - accuracy: 0.8685 - val_loss: 0.2212 - val_accuracy: 0.9286\n",
            "Epoch 31/100\n",
            "20/20 [==============================] - 0s 4ms/step - loss: 0.2782 - accuracy: 0.8780 - val_loss: 0.2205 - val_accuracy: 0.9286\n",
            "Epoch 32/100\n",
            "20/20 [==============================] - 0s 5ms/step - loss: 0.2921 - accuracy: 0.8891 - val_loss: 0.2223 - val_accuracy: 0.9333\n",
            "Epoch 33/100\n",
            "20/20 [==============================] - 0s 4ms/step - loss: 0.2603 - accuracy: 0.8764 - val_loss: 0.2185 - val_accuracy: 0.9381\n",
            "Epoch 34/100\n",
            "20/20 [==============================] - 0s 4ms/step - loss: 0.2671 - accuracy: 0.8859 - val_loss: 0.2164 - val_accuracy: 0.9286\n",
            "Epoch 35/100\n",
            "20/20 [==============================] - 0s 5ms/step - loss: 0.2475 - accuracy: 0.9002 - val_loss: 0.2143 - val_accuracy: 0.9381\n",
            "Epoch 36/100\n",
            "20/20 [==============================] - 0s 4ms/step - loss: 0.2349 - accuracy: 0.9049 - val_loss: 0.2115 - val_accuracy: 0.9286\n",
            "Epoch 37/100\n",
            "20/20 [==============================] - 0s 4ms/step - loss: 0.2555 - accuracy: 0.8970 - val_loss: 0.2065 - val_accuracy: 0.9333\n",
            "Epoch 38/100\n",
            "20/20 [==============================] - 0s 4ms/step - loss: 0.2649 - accuracy: 0.8970 - val_loss: 0.2059 - val_accuracy: 0.9333\n",
            "Epoch 39/100\n",
            "20/20 [==============================] - 0s 4ms/step - loss: 0.2345 - accuracy: 0.9065 - val_loss: 0.2067 - val_accuracy: 0.9333\n",
            "Epoch 40/100\n",
            "20/20 [==============================] - 0s 4ms/step - loss: 0.2567 - accuracy: 0.8875 - val_loss: 0.2035 - val_accuracy: 0.9429\n",
            "Epoch 41/100\n",
            "20/20 [==============================] - 0s 4ms/step - loss: 0.2457 - accuracy: 0.9002 - val_loss: 0.2023 - val_accuracy: 0.9429\n",
            "Epoch 42/100\n",
            "20/20 [==============================] - 0s 4ms/step - loss: 0.2540 - accuracy: 0.9017 - val_loss: 0.1990 - val_accuracy: 0.9429\n",
            "Epoch 43/100\n",
            "20/20 [==============================] - 0s 5ms/step - loss: 0.2201 - accuracy: 0.9160 - val_loss: 0.1967 - val_accuracy: 0.9429\n",
            "Epoch 44/100\n",
            "20/20 [==============================] - 0s 4ms/step - loss: 0.2307 - accuracy: 0.9113 - val_loss: 0.1947 - val_accuracy: 0.9381\n",
            "Epoch 45/100\n",
            "20/20 [==============================] - 0s 5ms/step - loss: 0.2491 - accuracy: 0.8970 - val_loss: 0.1925 - val_accuracy: 0.9429\n",
            "Epoch 46/100\n",
            "20/20 [==============================] - 0s 4ms/step - loss: 0.2474 - accuracy: 0.8938 - val_loss: 0.1919 - val_accuracy: 0.9429\n",
            "Epoch 47/100\n",
            "20/20 [==============================] - 0s 4ms/step - loss: 0.2027 - accuracy: 0.9287 - val_loss: 0.1882 - val_accuracy: 0.9429\n",
            "Epoch 48/100\n",
            "20/20 [==============================] - 0s 4ms/step - loss: 0.2253 - accuracy: 0.9113 - val_loss: 0.1864 - val_accuracy: 0.9429\n",
            "Epoch 49/100\n",
            "20/20 [==============================] - 0s 4ms/step - loss: 0.2316 - accuracy: 0.9128 - val_loss: 0.1844 - val_accuracy: 0.9429\n",
            "Epoch 50/100\n",
            "20/20 [==============================] - 0s 4ms/step - loss: 0.2378 - accuracy: 0.8954 - val_loss: 0.1841 - val_accuracy: 0.9476\n",
            "Epoch 51/100\n",
            "20/20 [==============================] - 0s 4ms/step - loss: 0.2347 - accuracy: 0.9113 - val_loss: 0.1816 - val_accuracy: 0.9524\n",
            "Epoch 52/100\n",
            "20/20 [==============================] - 0s 4ms/step - loss: 0.2202 - accuracy: 0.9049 - val_loss: 0.1804 - val_accuracy: 0.9476\n",
            "Epoch 53/100\n",
            "20/20 [==============================] - 0s 4ms/step - loss: 0.2325 - accuracy: 0.9049 - val_loss: 0.1793 - val_accuracy: 0.9476\n",
            "Epoch 54/100\n",
            "20/20 [==============================] - 0s 4ms/step - loss: 0.2280 - accuracy: 0.9081 - val_loss: 0.1760 - val_accuracy: 0.9476\n",
            "Epoch 55/100\n",
            "20/20 [==============================] - 0s 4ms/step - loss: 0.2323 - accuracy: 0.9144 - val_loss: 0.1738 - val_accuracy: 0.9476\n",
            "Epoch 56/100\n",
            "20/20 [==============================] - 0s 4ms/step - loss: 0.2139 - accuracy: 0.9113 - val_loss: 0.1701 - val_accuracy: 0.9476\n",
            "Epoch 57/100\n",
            "20/20 [==============================] - 0s 4ms/step - loss: 0.2476 - accuracy: 0.9097 - val_loss: 0.1726 - val_accuracy: 0.9476\n",
            "Epoch 58/100\n",
            "20/20 [==============================] - 0s 5ms/step - loss: 0.2071 - accuracy: 0.9192 - val_loss: 0.1706 - val_accuracy: 0.9476\n",
            "Epoch 59/100\n",
            "20/20 [==============================] - 0s 4ms/step - loss: 0.2089 - accuracy: 0.9239 - val_loss: 0.1703 - val_accuracy: 0.9429\n",
            "Epoch 60/100\n",
            "20/20 [==============================] - 0s 4ms/step - loss: 0.2054 - accuracy: 0.9128 - val_loss: 0.1669 - val_accuracy: 0.9476\n",
            "Epoch 61/100\n",
            "20/20 [==============================] - 0s 4ms/step - loss: 0.1956 - accuracy: 0.9239 - val_loss: 0.1630 - val_accuracy: 0.9476\n",
            "Epoch 62/100\n",
            "20/20 [==============================] - 0s 4ms/step - loss: 0.2200 - accuracy: 0.9192 - val_loss: 0.1600 - val_accuracy: 0.9429\n",
            "Epoch 63/100\n",
            "20/20 [==============================] - 0s 4ms/step - loss: 0.2262 - accuracy: 0.9128 - val_loss: 0.1614 - val_accuracy: 0.9476\n",
            "Epoch 64/100\n",
            "20/20 [==============================] - 0s 4ms/step - loss: 0.2075 - accuracy: 0.9128 - val_loss: 0.1604 - val_accuracy: 0.9476\n",
            "Epoch 65/100\n",
            "20/20 [==============================] - 0s 4ms/step - loss: 0.2058 - accuracy: 0.9223 - val_loss: 0.1601 - val_accuracy: 0.9476\n",
            "Epoch 66/100\n",
            "20/20 [==============================] - 0s 4ms/step - loss: 0.2026 - accuracy: 0.9271 - val_loss: 0.1576 - val_accuracy: 0.9476\n",
            "Epoch 67/100\n",
            "20/20 [==============================] - 0s 4ms/step - loss: 0.2125 - accuracy: 0.9065 - val_loss: 0.1555 - val_accuracy: 0.9476\n",
            "Epoch 68/100\n",
            "20/20 [==============================] - 0s 4ms/step - loss: 0.2317 - accuracy: 0.9128 - val_loss: 0.1557 - val_accuracy: 0.9571\n",
            "Epoch 69/100\n",
            "20/20 [==============================] - 0s 5ms/step - loss: 0.2169 - accuracy: 0.9208 - val_loss: 0.1544 - val_accuracy: 0.9571\n",
            "Epoch 70/100\n",
            "20/20 [==============================] - 0s 7ms/step - loss: 0.2059 - accuracy: 0.9192 - val_loss: 0.1546 - val_accuracy: 0.9571\n",
            "Epoch 71/100\n",
            "20/20 [==============================] - 0s 5ms/step - loss: 0.1981 - accuracy: 0.9192 - val_loss: 0.1509 - val_accuracy: 0.9476\n",
            "Epoch 72/100\n",
            "20/20 [==============================] - 0s 6ms/step - loss: 0.1852 - accuracy: 0.9350 - val_loss: 0.1496 - val_accuracy: 0.9524\n",
            "Epoch 73/100\n",
            "20/20 [==============================] - 0s 6ms/step - loss: 0.1887 - accuracy: 0.9239 - val_loss: 0.1481 - val_accuracy: 0.9571\n",
            "Epoch 74/100\n",
            "20/20 [==============================] - 0s 6ms/step - loss: 0.2073 - accuracy: 0.9192 - val_loss: 0.1479 - val_accuracy: 0.9571\n",
            "Epoch 75/100\n",
            "20/20 [==============================] - 0s 6ms/step - loss: 0.1944 - accuracy: 0.9192 - val_loss: 0.1430 - val_accuracy: 0.9524\n",
            "Epoch 76/100\n",
            "20/20 [==============================] - 0s 6ms/step - loss: 0.1863 - accuracy: 0.9303 - val_loss: 0.1432 - val_accuracy: 0.9571\n",
            "Epoch 77/100\n",
            "20/20 [==============================] - 0s 6ms/step - loss: 0.1854 - accuracy: 0.9303 - val_loss: 0.1420 - val_accuracy: 0.9524\n",
            "Epoch 78/100\n",
            "20/20 [==============================] - 0s 7ms/step - loss: 0.1984 - accuracy: 0.9192 - val_loss: 0.1409 - val_accuracy: 0.9524\n",
            "Epoch 79/100\n",
            "20/20 [==============================] - 0s 6ms/step - loss: 0.1791 - accuracy: 0.9271 - val_loss: 0.1385 - val_accuracy: 0.9571\n",
            "Epoch 80/100\n",
            "20/20 [==============================] - 0s 6ms/step - loss: 0.1728 - accuracy: 0.9398 - val_loss: 0.1388 - val_accuracy: 0.9619\n",
            "Epoch 81/100\n",
            "20/20 [==============================] - 0s 6ms/step - loss: 0.1809 - accuracy: 0.9223 - val_loss: 0.1367 - val_accuracy: 0.9619\n",
            "Epoch 82/100\n",
            "20/20 [==============================] - 0s 6ms/step - loss: 0.1747 - accuracy: 0.9429 - val_loss: 0.1358 - val_accuracy: 0.9619\n",
            "Epoch 83/100\n",
            "20/20 [==============================] - 0s 6ms/step - loss: 0.1765 - accuracy: 0.9382 - val_loss: 0.1320 - val_accuracy: 0.9619\n",
            "Epoch 84/100\n",
            "20/20 [==============================] - 0s 5ms/step - loss: 0.1804 - accuracy: 0.9255 - val_loss: 0.1325 - val_accuracy: 0.9667\n",
            "Epoch 85/100\n",
            "20/20 [==============================] - 0s 5ms/step - loss: 0.1663 - accuracy: 0.9398 - val_loss: 0.1322 - val_accuracy: 0.9619\n",
            "Epoch 86/100\n",
            "20/20 [==============================] - 0s 5ms/step - loss: 0.1754 - accuracy: 0.9287 - val_loss: 0.1283 - val_accuracy: 0.9619\n",
            "Epoch 87/100\n",
            "20/20 [==============================] - 0s 7ms/step - loss: 0.1805 - accuracy: 0.9160 - val_loss: 0.1293 - val_accuracy: 0.9619\n",
            "Epoch 88/100\n",
            "20/20 [==============================] - 0s 6ms/step - loss: 0.1878 - accuracy: 0.9223 - val_loss: 0.1267 - val_accuracy: 0.9667\n",
            "Epoch 89/100\n",
            "20/20 [==============================] - 0s 6ms/step - loss: 0.1500 - accuracy: 0.9366 - val_loss: 0.1221 - val_accuracy: 0.9667\n",
            "Epoch 90/100\n",
            "20/20 [==============================] - 0s 6ms/step - loss: 0.1766 - accuracy: 0.9334 - val_loss: 0.1214 - val_accuracy: 0.9619\n",
            "Epoch 91/100\n",
            "20/20 [==============================] - 0s 5ms/step - loss: 0.1672 - accuracy: 0.9382 - val_loss: 0.1177 - val_accuracy: 0.9667\n",
            "Epoch 92/100\n",
            "20/20 [==============================] - 0s 6ms/step - loss: 0.1905 - accuracy: 0.9255 - val_loss: 0.1179 - val_accuracy: 0.9619\n",
            "Epoch 93/100\n",
            "20/20 [==============================] - 0s 5ms/step - loss: 0.1638 - accuracy: 0.9366 - val_loss: 0.1190 - val_accuracy: 0.9667\n",
            "Epoch 94/100\n",
            "20/20 [==============================] - 0s 4ms/step - loss: 0.1580 - accuracy: 0.9572 - val_loss: 0.1178 - val_accuracy: 0.9667\n",
            "Epoch 95/100\n",
            "20/20 [==============================] - 0s 4ms/step - loss: 0.1653 - accuracy: 0.9287 - val_loss: 0.1127 - val_accuracy: 0.9714\n",
            "Epoch 96/100\n",
            "20/20 [==============================] - 0s 4ms/step - loss: 0.1538 - accuracy: 0.9319 - val_loss: 0.1120 - val_accuracy: 0.9714\n",
            "Epoch 97/100\n",
            "20/20 [==============================] - 0s 4ms/step - loss: 0.1604 - accuracy: 0.9366 - val_loss: 0.1094 - val_accuracy: 0.9667\n",
            "Epoch 98/100\n",
            "20/20 [==============================] - 0s 4ms/step - loss: 0.1298 - accuracy: 0.9572 - val_loss: 0.1072 - val_accuracy: 0.9714\n",
            "Epoch 99/100\n",
            "20/20 [==============================] - 0s 4ms/step - loss: 0.1619 - accuracy: 0.9366 - val_loss: 0.1075 - val_accuracy: 0.9714\n",
            "Epoch 100/100\n",
            "20/20 [==============================] - 0s 5ms/step - loss: 0.1564 - accuracy: 0.9461 - val_loss: 0.1039 - val_accuracy: 0.9619\n"
          ]
        }
      ]
    },
    {
      "cell_type": "code",
      "source": [
        "_, accuracy = model.evaluate(x_test, y_test)\n",
        "print(f'Test Accuracy: {accuracy:.2f}')"
      ],
      "metadata": {
        "colab": {
          "base_uri": "https://localhost:8080/"
        },
        "id": "jRTXpo6hLuF9",
        "outputId": "c172e87c-ccb7-4528-d30d-05c2f9d41d8d"
      },
      "execution_count": null,
      "outputs": [
        {
          "output_type": "stream",
          "name": "stdout",
          "text": [
            "7/7 [==============================] - 0s 2ms/step - loss: 0.1040 - accuracy: 0.9668\n",
            "Test Accuracy: 0.97\n"
          ]
        }
      ]
    },
    {
      "cell_type": "code",
      "source": [
        "age = int(input('Enter age: '))\n",
        "sex = int(input('Enter sex (1 = male; 0 = female): '))\n",
        "cp = int(input('Enter chest pain type (4 values): '))\n",
        "trestbps = int(input('Enter resting blood pressure: '))\n",
        "chol = int(input('Enter serum cholestrol in mg/dl: '))\n",
        "fbs = int(input('Enter (fasting blood sugar &gt; 120 mg/dl) (1 = true; 0 = false): '))\n",
        "resteceg = int(input('Enter resting electrocardiographic results (values 0,1,2): '))\n",
        "thalach = int(input('Enter maximum heart rate achieved: '))\n",
        "exang = int(input('Enter exercise induced angina(1 for yes, 0 for no): '))\n",
        "oldpeak = float(input('Enter ST depression induced by exercise relative to rest: '))\n",
        "slope = int(input('Enter the slope of the peak exercise ST segment: '))\n",
        "ca = int(input('Enter number of major vessels (0-3) colored by flourosopy: '))\n",
        "thal = int(input('Enter thal: 0 = normal; 1 = fixed defect; 2 = reversable defect: '))"
      ],
      "metadata": {
        "colab": {
          "base_uri": "https://localhost:8080/"
        },
        "id": "bPxKvDiCW4p0",
        "outputId": "d27ae510-571c-46f4-ee23-1f069ab5d9dd"
      },
      "execution_count": null,
      "outputs": [
        {
          "name": "stdout",
          "output_type": "stream",
          "text": [
            "Enter age: 50\n",
            "Enter sex (1 = male; 0 = female): 1\n",
            "Enter chest pain type (4 values): 2\n",
            "Enter resting blood pressure: 130\n",
            "Enter serum cholestrol in mg/dl: 200\n",
            "Enter (fasting blood sugar &gt; 120 mg/dl) (1 = true; 0 = false): 0\n",
            "Enter resting electrocardiographic results (values 0,1,2): 1\n",
            "Enter maximum heart rate achieved: 160\n",
            "Enter exercise induced angina(1 for yes, 0 for no): 0\n",
            "Enter ST depression induced by exercise relative to rest: 2\n",
            "Enter the slope of the peak exercise ST segment: 1\n",
            "Enter number of major vessels (0-3) colored by flourosopy: 1\n",
            "Enter thal: 0 = normal; 1 = fixed defect; 2 = reversable defect: 2\n"
          ]
        }
      ]
    },
    {
      "cell_type": "code",
      "source": [
        "input_data = pd.DataFrame({\n",
        "    'age': [age],\n",
        "    'sex' : [sex],\n",
        "    'cp': [cp],\n",
        "    'trestbps': [trestbps],\n",
        "    'chol': [chol],\n",
        "    'fbs' : [fbs],\n",
        "    'resteceg' : [resteceg],\n",
        "    'thalach' : [thalach],\n",
        "    'exang' : [exang],\n",
        "    'oldpeak' : [oldpeak],\n",
        "    'slope' : [slope],\n",
        "    'ca' : [ca],\n",
        "    'thal' : [thal]\n",
        "})\n"
      ],
      "metadata": {
        "id": "FG9riYu_ObH_"
      },
      "execution_count": null,
      "outputs": []
    },
    {
      "cell_type": "code",
      "source": [
        "input_data = scaler.transform(input_data)"
      ],
      "metadata": {
        "colab": {
          "base_uri": "https://localhost:8080/"
        },
        "id": "uU42FB56ObJD",
        "outputId": "456ca4a3-443f-4ddd-f848-bbc4069e1cf2"
      },
      "execution_count": null,
      "outputs": [
        {
          "output_type": "stream",
          "name": "stderr",
          "text": [
            "/usr/local/lib/python3.10/dist-packages/sklearn/base.py:432: UserWarning: X has feature names, but StandardScaler was fitted without feature names\n",
            "  warnings.warn(\n"
          ]
        }
      ]
    },
    {
      "cell_type": "code",
      "source": [
        "prediction = model.predict(input_data)\n",
        "if prediction[0] >= 0.5:\n",
        "    print('Heart attack predicted.')\n",
        "else:\n",
        "    print('No heart attack predicted.')"
      ],
      "metadata": {
        "colab": {
          "base_uri": "https://localhost:8080/"
        },
        "id": "ym2sIM05VEsB",
        "outputId": "993394ba-87fa-44ce-9c96-5c1a4f1792d0"
      },
      "execution_count": null,
      "outputs": [
        {
          "output_type": "stream",
          "name": "stdout",
          "text": [
            "1/1 [==============================] - 0s 72ms/step\n",
            "No heart attack predicted.\n"
          ]
        }
      ]
    }
  ]
}